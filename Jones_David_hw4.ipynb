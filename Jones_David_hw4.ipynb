{
 "cells": [
  {
   "cell_type": "markdown",
   "metadata": {},
   "source": [
    "# Total points 8"
   ]
  },
  {
   "cell_type": "markdown",
   "metadata": {},
   "source": [
    "# In  the homework\n",
    "- We'll collect climate change related tweet from twitter using REST API\n",
    "- Use tweets to populate Pandas DataFrames\n",
    "- Perform some elementary pandas operation to check data sanity\n",
    "\n",
    "\n",
    "**Please read**\n",
    "\n",
    "- https://developer.twitter.com/en/developer-terms/more-on-restricted-use-cases\n"
   ]
  },
  {
   "cell_type": "markdown",
   "metadata": {},
   "source": [
    "Before proceeding with homework.\n",
    "\n",
    "<font size=\"6\" color='red'> Create new app at https://apps.twitter.com/app/new  (You may have to create twitter account before this) </font>\n",
    "\n",
    "\n",
    "\n"
   ]
  },
  {
   "cell_type": "markdown",
   "metadata": {},
   "source": [
    "[twitter api reference index](https://developer.twitter.com/en/docs/api-reference-index)\n",
    "\n",
    "\n",
    "# POST oauth2/token\n",
    "Allows a registered application to obtain an OAuth 2 Bearer Token, which can be used to make API requests on an application's own behalf, without a user context.\n",
    "https://developer.twitter.com/en/docs/basics/authentication/api-reference/token\n"
   ]
  },
  {
   "cell_type": "markdown",
   "metadata": {},
   "source": [
    "Once you have create app, click on app details and keys and token tab\n",
    "\n",
    "<font size=\"6\" color='red'> write API key value for client_key and API secret key value for client_secret in the next cell</font>"
   ]
  },
  {
   "cell_type": "code",
   "execution_count": 1,
   "metadata": {},
   "outputs": [],
   "source": [
    "client_key = \"o5At944dswzvw3VZbSVONmeff\"\n",
    "client_secret = \"NPTZvV1hRiKO7chMjG4uCEpEmmem3o2Z1Gvuoj24M0He1dU52v\""
   ]
  },
  {
   "cell_type": "code",
   "execution_count": 2,
   "metadata": {},
   "outputs": [],
   "source": [
    "import requests\n",
    "import base64\n",
    "\n",
    "key_secret = '{}:{}'.format(client_key, client_secret).encode('ascii')\n",
    "b64_encoded_key = base64.b64encode(key_secret)\n",
    "b64_encoded_key = b64_encoded_key.decode('ascii')"
   ]
  },
  {
   "cell_type": "code",
   "execution_count": 3,
   "metadata": {},
   "outputs": [],
   "source": [
    "base_url = 'https://api.twitter.com/'\n",
    "auth_endpoint = base_url+'oauth2/token'\n",
    "\n",
    "auth_headers = { 'Authorization': 'Basic {}'.format(b64_encoded_key),\n",
    "                'Content-Type': 'application/x-www-form-urlencoded;charset=UTF-8'}\n",
    "\n",
    "auth_data = { 'grant_type': 'client_credentials'}\n",
    "\n"
   ]
  },
  {
   "cell_type": "markdown",
   "metadata": {},
   "source": [
    "Let's post to authentication endpoint and get the token to be used in subsequent REST API call"
   ]
  },
  {
   "cell_type": "code",
   "execution_count": 4,
   "metadata": {},
   "outputs": [
    {
     "data": {
      "text/plain": [
       "200"
      ]
     },
     "execution_count": 4,
     "metadata": {},
     "output_type": "execute_result"
    }
   ],
   "source": [
    "response = requests.post(auth_endpoint, headers=auth_headers, data=auth_data)\n",
    "response.status_code"
   ]
  },
  {
   "cell_type": "code",
   "execution_count": 5,
   "metadata": {},
   "outputs": [
    {
     "data": {
      "text/plain": [
       "{'token_type': 'bearer',\n",
       " 'access_token': 'AAAAAAAAAAAAAAAAAAAAAH2%2BewEAAAAAfB%2BOlYpPqVHnaujOcNagh7DzyOI%3DnnSgWSjVFWXHruxlmVfYUFvJuBK8DAHEuZbSn7OJ8M7rgikqFU'}"
      ]
     },
     "execution_count": 5,
     "metadata": {},
     "output_type": "execute_result"
    }
   ],
   "source": [
    "json_data =  response.json()\n",
    "json_data"
   ]
  },
  {
   "cell_type": "code",
   "execution_count": 6,
   "metadata": {},
   "outputs": [],
   "source": [
    "access_token = json_data['access_token']"
   ]
  },
  {
   "cell_type": "markdown",
   "metadata": {},
   "source": [
    "# Let's do some search on climate change\n",
    "This is how we got search endpoint\n",
    "\n",
    "https://developer.twitter.com/en/docs/tweets/search/api-reference/get-search-tweets"
   ]
  },
  {
   "cell_type": "code",
   "execution_count": 7,
   "metadata": {},
   "outputs": [],
   "source": [
    "max_tweets=100\n",
    "tw_limit=100# we can get only 100 tweet per call with standard search api\n",
    "tweets = []\n",
    "users =[]"
   ]
  },
  {
   "cell_type": "code",
   "execution_count": 8,
   "metadata": {},
   "outputs": [],
   "source": [
    "search_headers = {'Authorization': 'Bearer {}'.format(access_token)    \n",
    "}\n",
    "\n",
    "parameters = { 'query': 'climate change',\n",
    "                'max_results': 100,\n",
    "                'expansions' :'author_id,referenced_tweets.id',\n",
    "                'tweet.fields' : 'created_at,entities,source,in_reply_to_user_id,geo,lang,public_metrics,reply_settings,referenced_tweets,conversation_id',\n",
    "                'user.fields': 'created_at,description,entities,id,location,name,pinned_tweet_id,profile_image_url,protected,public_metrics,url,username,verified,withheld'}\n",
    "\n",
    "search_url = base_url+'2/tweets/search/recent'\n",
    "\n",
    "response = requests.get(search_url, headers=search_headers, params=parameters)"
   ]
  },
  {
   "cell_type": "code",
   "execution_count": 9,
   "metadata": {
    "scrolled": true
   },
   "outputs": [],
   "source": [
    "climate_tweets = response.json()\n"
   ]
  },
  {
   "cell_type": "code",
   "execution_count": 10,
   "metadata": {},
   "outputs": [
    {
     "data": {
      "text/plain": [
       "100"
      ]
     },
     "execution_count": 10,
     "metadata": {},
     "output_type": "execute_result"
    }
   ],
   "source": [
    "len(climate_tweets['data'])"
   ]
  },
  {
   "cell_type": "code",
   "execution_count": 11,
   "metadata": {},
   "outputs": [],
   "source": [
    "tweets +=climate_tweets['data']\n"
   ]
  },
  {
   "cell_type": "code",
   "execution_count": 12,
   "metadata": {},
   "outputs": [],
   "source": [
    "\n",
    " ids = [tw['id'] for tw in climate_tweets['data']]\n",
    "    "
   ]
  },
  {
   "cell_type": "code",
   "execution_count": 13,
   "metadata": {},
   "outputs": [],
   "source": [
    "min_id = min(ids)"
   ]
  },
  {
   "cell_type": "code",
   "execution_count": 15,
   "metadata": {},
   "outputs": [],
   "source": [
    "tw_ids = []\n",
    "tw_ids+=ids"
   ]
  },
  {
   "cell_type": "markdown",
   "metadata": {},
   "source": [
    "As per twitter api documentation we can use\n",
    "\n",
    "until_id:Returns results with an ID less than (that is, older than) or equal to the specified ID.\n",
    "\n",
    "to get older tweets"
   ]
  },
  {
   "cell_type": "markdown",
   "metadata": {},
   "source": [
    "# Q1 (.5 points) Modify only *parameters* dictionary in the following code so that subsequent call to climate change search returns older tweets with id less than minimum of previous tweets ids."
   ]
  },
  {
   "cell_type": "code",
   "execution_count": 14,
   "metadata": {},
   "outputs": [],
   "source": [
    " parameters = { 'query': 'climate change',\n",
    "                'max_results': tw_limit,\n",
    "                'expansions' :'author_id,referenced_tweets.id',\n",
    "                'tweet.fields' : 'created_at,entities,source,in_reply_to_user_id,geo,lang,public_metrics,reply_settings,referenced_tweets,conversation_id',\n",
    "                'user.fields': 'created_at,description,entities,id,location,name,pinned_tweet_id,profile_image_url,protected,public_metrics,url,username,verified,withheld',\n",
    "                'until_id' : min_id\n",
    "                 }\n",
    "\n",
    "for  i in range(max_tweets//tw_limit -1):\n",
    "    print(\"searching tweets with id  < {}\".format(min_id))\n",
    "    search_url = base_url+'2/tweets/search/recent'\n",
    "    response = requests.get(search_url, headers=search_headers, params=parameters)\n",
    "    climate_tweets = response.json()\n",
    "    ids = [tw['id'] for tw in climate_tweets['statuses']]\n",
    "    tw_ids+=ids\n",
    "    print(i, len(climate_tweets['data']))\n",
    "    min_id = min(ids)\n",
    "    tweets +=climate_tweets['data']\n",
    "    users.extend(climate_tweets['includes']['users'])\n",
    "    if 'next_token' in response.json()['meta']:\n",
    "\t\t\t\t\tparameters['next_token'] = response.json()['meta']['next_token']"
   ]
  },
  {
   "cell_type": "code",
   "execution_count": 15,
   "metadata": {},
   "outputs": [
    {
     "name": "stdout",
     "output_type": "stream",
     "text": [
      "Total tweets retrieved= 100\n"
     ]
    }
   ],
   "source": [
    "print('Total tweets retrieved= {}'.format(len(tweets)))"
   ]
  },
  {
   "cell_type": "markdown",
   "metadata": {},
   "source": [
    "# Let's print some tweets"
   ]
  },
  {
   "cell_type": "code",
   "execution_count": 16,
   "metadata": {},
   "outputs": [],
   "source": [
    "import pprint #pretty-print” arbitrary Python data structures. Tweets object has hierarchical struture\n",
    "max_tweet_to_print=4"
   ]
  },
  {
   "cell_type": "code",
   "execution_count": 28,
   "metadata": {},
   "outputs": [
    {
     "name": "stdout",
     "output_type": "stream",
     "text": [
      "[{'author_id': '1315775267831382018',\n",
      "  'conversation_id': '1526375358383017985',\n",
      "  'created_at': '2022-05-17T23:23:01.000Z',\n",
      "  'entities': {'mentions': [{'end': 16,\n",
      "                             'id': '1497960029374201858',\n",
      "                             'start': 0,\n",
      "                             'username': 'GreenJDandWords'},\n",
      "                            {'end': 31,\n",
      "                             'id': '1004132506805854208',\n",
      "                             'start': 17,\n",
      "                             'username': 'TiemannAmelia'}]},\n",
      "  'id': '1526704873995046912',\n",
      "  'in_reply_to_user_id': '1315775267831382018',\n",
      "  'lang': 'en',\n",
      "  'public_metrics': {'like_count': 0,\n",
      "                     'quote_count': 0,\n",
      "                     'reply_count': 0,\n",
      "                     'retweet_count': 0},\n",
      "  'referenced_tweets': [{'id': '1526704632960909312', 'type': 'replied_to'}],\n",
      "  'reply_settings': 'everyone',\n",
      "  'source': 'Twitter Web App',\n",
      "  'text': '@GreenJDandWords @TiemannAmelia For myself, and most of the nuclear '\n",
      "          'advocates I know, climate change is the primary motivation!  2/2'},\n",
      " {'author_id': '747950508564971520',\n",
      "  'conversation_id': '1526704871457669120',\n",
      "  'created_at': '2022-05-17T23:23:00.000Z',\n",
      "  'entities': {'hashtags': [{'end': 213, 'start': 201, 'tag': '2PencilChat'}]},\n",
      "  'id': '1526704871457669120',\n",
      "  'lang': 'en',\n",
      "  'public_metrics': {'like_count': 0,\n",
      "                     'quote_count': 0,\n",
      "                     'reply_count': 0,\n",
      "                     'retweet_count': 0},\n",
      "  'reply_settings': 'everyone',\n",
      "  'source': 'Twitter for iPad',\n",
      "  'text': 'A2  🌺Joy\\n'\n",
      "          '       🌺 Students need to learn where and how they have food\\n'\n",
      "          '       🌺 To learn about Climate Change students need to know what '\n",
      "          'plants/trees need to thrive \\n'\n",
      "          '       🌺 Understanding Life Cycles \\n'\n",
      "          '#2PencilChat'},\n",
      " {'author_id': '1436492649473708070',\n",
      "  'conversation_id': '1526704868882370561',\n",
      "  'created_at': '2022-05-17T23:23:00.000Z',\n",
      "  'entities': {'mentions': [{'end': 13,\n",
      "                             'id': '1470118590',\n",
      "                             'start': 3,\n",
      "                             'username': 'suzseddon'}]},\n",
      "  'id': '1526704868882370561',\n",
      "  'lang': 'en',\n",
      "  'public_metrics': {'like_count': 0,\n",
      "                     'quote_count': 0,\n",
      "                     'reply_count': 0,\n",
      "                     'retweet_count': 120},\n",
      "  'referenced_tweets': [{'id': '1526661121939329026', 'type': 'retweeted'}],\n",
      "  'reply_settings': 'everyone',\n",
      "  'source': 'Twitter for Android',\n",
      "  'text': 'RT @suzseddon: Why is Prince Charles saying if we don’t tackle '\n",
      "          'climate change,we will have more pandemic’s. Wtf has pandemic’s got '\n",
      "          'to do wi…'},\n",
      " {'author_id': '25661191',\n",
      "  'conversation_id': '1526704866542100480',\n",
      "  'created_at': '2022-05-17T23:22:59.000Z',\n",
      "  'entities': {'mentions': [{'end': 14,\n",
      "                             'id': '1401821178205937664',\n",
      "                             'start': 3,\n",
      "                             'username': 'Greg_T_NSW'},\n",
      "                            {'end': 26,\n",
      "                             'id': '66917778',\n",
      "                             'start': 16,\n",
      "                             'username': 'murpharoo'},\n",
      "                            {'end': 35,\n",
      "                             'id': '31077006',\n",
      "                             'start': 27,\n",
      "                             'username': 'msmarto'}]},\n",
      "  'id': '1526704866542100480',\n",
      "  'lang': 'en',\n",
      "  'public_metrics': {'like_count': 0,\n",
      "                     'quote_count': 0,\n",
      "                     'reply_count': 0,\n",
      "                     'retweet_count': 28},\n",
      "  'referenced_tweets': [{'id': '1526396878828748800', 'type': 'retweeted'}],\n",
      "  'reply_settings': 'everyone',\n",
      "  'source': 'Twitter for Android',\n",
      "  'text': 'RT @Greg_T_NSW: @murpharoo @msmarto The Coalition have cut the '\n",
      "          'Public Service over many years, demoralising staff and reducing '\n",
      "          'services to…'}]\n"
     ]
    }
   ],
   "source": [
    "pprint.pprint(tweets[0:max_tweet_to_print])"
   ]
  },
  {
   "cell_type": "markdown",
   "metadata": {},
   "source": [
    "Link to understand [tweet-object](https://developer.twitter.com/en/docs/tweets/data-dictionary/overview/tweet-object)\n",
    "\n",
    "Let'see some tweets"
   ]
  },
  {
   "cell_type": "code",
   "execution_count": 17,
   "metadata": {},
   "outputs": [
    {
     "name": "stdout",
     "output_type": "stream",
     "text": [
      "RT @parashotz: Every climate change prediction since the 70’s hasn’t come true. https://t.co/yWElcdljM4\n",
      "\n",
      "RT @AlisonBoxxer: Antifa #LaurenBoebertIsSoDumb Kyle Rittenhouse climate change Woke Capitalism America first House Republicans Major Biden…\n",
      "\n",
      "RT @luckytran: Scientists have been warning us for decades that prolonged extreme heatwaves and out of control disease outbreaks will becom…\n",
      "\n",
      "RT @WhipRealer: It’s a farce. Always has been. Always will be. Climate change generates dollars. That’s what it’s for. https://t.co/6xAEEDT…\n",
      "\n"
     ]
    }
   ],
   "source": [
    "for status in tweets[0:max_tweet_to_print]:\n",
    "    print(status['text'] + '\\n')"
   ]
  },
  {
   "cell_type": "markdown",
   "metadata": {},
   "source": [
    "# Pandas DataFrame for storing tweet feed\n",
    "\n",
    "Create following date frame for storing tweets\n",
    "\n",
    "- **climate_feed_df** DataFrame for storing tweet\n",
    "- **user_df** DataFrame for storing user detail\n",
    "- **retweeted_status_df** for storing original tweet"
   ]
  },
  {
   "cell_type": "markdown",
   "metadata": {},
   "source": [
    "# Printing keys in tweets"
   ]
  },
  {
   "cell_type": "code",
   "execution_count": 18,
   "metadata": {},
   "outputs": [
    {
     "name": "stdout",
     "output_type": "stream",
     "text": [
      "dict_keys(['conversation_id', 'entities', 'created_at', 'public_metrics', 'id', 'author_id', 'lang', 'text', 'source', 'reply_settings', 'referenced_tweets'])\n",
      "11\n"
     ]
    }
   ],
   "source": [
    "print(tweets[1].keys())\n",
    "print(len(tweets[1].keys()))\n"
   ]
  },
  {
   "cell_type": "code",
   "execution_count": 19,
   "metadata": {},
   "outputs": [],
   "source": [
    "import pandas as pd\n",
    "import copy"
   ]
  },
  {
   "cell_type": "markdown",
   "metadata": {},
   "source": [
    "# Generators for building DataFrames"
   ]
  },
  {
   "cell_type": "markdown",
   "metadata": {},
   "source": [
    "# Q2 (2 point) Complete following   python generator *tweet_generator*. Generator yield modified tweet .\n",
    "For each tweet in tweets\n",
    "- Replace **author_id** attribute with **user_id**.\n",
    "- Replace **referenced_tweets** attribute with **referenced_tweets_ids** and value(s) with **tweet['referenced_tweets']['id']** value(s).\n",
    "- Keep other attributes in the tweet as such."
   ]
  },
  {
   "cell_type": "code",
   "execution_count": 33,
   "metadata": {},
   "outputs": [],
   "source": [
    "def tweet_generator(tweets):\n",
    "    for tweet in tweets:\n",
    "        modified_tweet= {}\n",
    "        \n",
    "        #Write your code here\n",
    "        \n",
    "        \n",
    "        yield modified_tweet       \n",
    "            \n",
    "            "
   ]
  },
  {
   "cell_type": "code",
   "execution_count": 20,
   "metadata": {},
   "outputs": [],
   "source": [
    "def tweet_generator(tweets):\n",
    "    for tweet in tweets:\n",
    "        try:\n",
    "            modified_tweet = copy.deepcopy(tweet)\n",
    "            modified_tweet['user_id'] = modified_tweet.pop('author_id')\n",
    "            modified_tweet['referenced_tweets_ids'] = modified_tweet['referenced_tweets'][0]['id']\n",
    "            modified_tweet['retweet_count'] = modified_tweet['public_metrics']['retweet_count']\n",
    "            yield modified_tweet     \n",
    "        except KeyError as e:\n",
    "            continue"
   ]
  },
  {
   "cell_type": "code",
   "execution_count": 21,
   "metadata": {},
   "outputs": [
    {
     "data": {
      "text/plain": [
       "[{'conversation_id': '1548769297807429632',\n",
       "  'entities': {'mentions': [{'start': 3,\n",
       "     'end': 13,\n",
       "     'username': 'parashotz',\n",
       "     'id': '542153653'}],\n",
       "   'urls': [{'start': 80,\n",
       "     'end': 103,\n",
       "     'url': 'https://t.co/yWElcdljM4',\n",
       "     'expanded_url': 'https://twitter.com/parashotz/status/1548662364794388481/video/1',\n",
       "     'display_url': 'pic.twitter.com/yWElcdljM4',\n",
       "     'media_key': '7_1548662278370824192'}]},\n",
       "  'created_at': '2022-07-17T20:39:09.000Z',\n",
       "  'public_metrics': {'retweet_count': 1110,\n",
       "   'reply_count': 0,\n",
       "   'like_count': 0,\n",
       "   'quote_count': 0},\n",
       "  'id': '1548769297807429632',\n",
       "  'lang': 'en',\n",
       "  'text': 'RT @parashotz: Every climate change prediction since the 70’s hasn’t come true. https://t.co/yWElcdljM4',\n",
       "  'source': 'Twitter for iPhone',\n",
       "  'reply_settings': 'everyone',\n",
       "  'referenced_tweets': [{'type': 'retweeted', 'id': '1548662364794388481'}],\n",
       "  'user_id': '1351610562938073092',\n",
       "  'referenced_tweets_ids': '1548662364794388481',\n",
       "  'retweet_count': 1110},\n",
       " {'conversation_id': '1548769295534014466',\n",
       "  'entities': {'mentions': [{'start': 3,\n",
       "     'end': 16,\n",
       "     'username': 'AlisonBoxxer',\n",
       "     'id': '1333774146807980033'}],\n",
       "   'hashtags': [{'start': 25, 'end': 47, 'tag': 'LaurenBoebertIsSoDumb'}]},\n",
       "  'created_at': '2022-07-17T20:39:09.000Z',\n",
       "  'public_metrics': {'retweet_count': 284,\n",
       "   'reply_count': 0,\n",
       "   'like_count': 0,\n",
       "   'quote_count': 0},\n",
       "  'id': '1548769295534014466',\n",
       "  'lang': 'en',\n",
       "  'text': 'RT @AlisonBoxxer: Antifa #LaurenBoebertIsSoDumb Kyle Rittenhouse climate change Woke Capitalism America first House Republicans Major Biden…',\n",
       "  'source': 'Twitter Web App',\n",
       "  'reply_settings': 'everyone',\n",
       "  'referenced_tweets': [{'type': 'retweeted', 'id': '1548714522143326216'}],\n",
       "  'user_id': '1000152196061782016',\n",
       "  'referenced_tweets_ids': '1548714522143326216',\n",
       "  'retweet_count': 284}]"
      ]
     },
     "execution_count": 21,
     "metadata": {},
     "output_type": "execute_result"
    }
   ],
   "source": [
    "# Checking  generator output\n",
    "list(tweet_generator(tweets[0:2]))"
   ]
  },
  {
   "cell_type": "code",
   "execution_count": 22,
   "metadata": {},
   "outputs": [],
   "source": [
    "climate_feed_df = pd.DataFrame(tweet_generator(tweets))"
   ]
  },
  {
   "cell_type": "code",
   "execution_count": 23,
   "metadata": {},
   "outputs": [
    {
     "data": {
      "text/html": [
       "<div>\n",
       "<style scoped>\n",
       "    .dataframe tbody tr th:only-of-type {\n",
       "        vertical-align: middle;\n",
       "    }\n",
       "\n",
       "    .dataframe tbody tr th {\n",
       "        vertical-align: top;\n",
       "    }\n",
       "\n",
       "    .dataframe thead th {\n",
       "        text-align: right;\n",
       "    }\n",
       "</style>\n",
       "<table border=\"1\" class=\"dataframe\">\n",
       "  <thead>\n",
       "    <tr style=\"text-align: right;\">\n",
       "      <th></th>\n",
       "      <th>conversation_id</th>\n",
       "      <th>entities</th>\n",
       "      <th>created_at</th>\n",
       "      <th>public_metrics</th>\n",
       "      <th>id</th>\n",
       "      <th>lang</th>\n",
       "      <th>text</th>\n",
       "      <th>source</th>\n",
       "      <th>reply_settings</th>\n",
       "      <th>referenced_tweets</th>\n",
       "      <th>user_id</th>\n",
       "      <th>referenced_tweets_ids</th>\n",
       "      <th>retweet_count</th>\n",
       "      <th>in_reply_to_user_id</th>\n",
       "    </tr>\n",
       "  </thead>\n",
       "  <tbody>\n",
       "    <tr>\n",
       "      <th>0</th>\n",
       "      <td>1548769297807429632</td>\n",
       "      <td>{'mentions': [{'start': 3, 'end': 13, 'usernam...</td>\n",
       "      <td>2022-07-17T20:39:09.000Z</td>\n",
       "      <td>{'retweet_count': 1110, 'reply_count': 0, 'lik...</td>\n",
       "      <td>1548769297807429632</td>\n",
       "      <td>en</td>\n",
       "      <td>RT @parashotz: Every climate change prediction...</td>\n",
       "      <td>Twitter for iPhone</td>\n",
       "      <td>everyone</td>\n",
       "      <td>[{'type': 'retweeted', 'id': '1548662364794388...</td>\n",
       "      <td>1351610562938073092</td>\n",
       "      <td>1548662364794388481</td>\n",
       "      <td>1110</td>\n",
       "      <td>NaN</td>\n",
       "    </tr>\n",
       "    <tr>\n",
       "      <th>1</th>\n",
       "      <td>1548769295534014466</td>\n",
       "      <td>{'mentions': [{'start': 3, 'end': 16, 'usernam...</td>\n",
       "      <td>2022-07-17T20:39:09.000Z</td>\n",
       "      <td>{'retweet_count': 284, 'reply_count': 0, 'like...</td>\n",
       "      <td>1548769295534014466</td>\n",
       "      <td>en</td>\n",
       "      <td>RT @AlisonBoxxer: Antifa #LaurenBoebertIsSoDum...</td>\n",
       "      <td>Twitter Web App</td>\n",
       "      <td>everyone</td>\n",
       "      <td>[{'type': 'retweeted', 'id': '1548714522143326...</td>\n",
       "      <td>1000152196061782016</td>\n",
       "      <td>1548714522143326216</td>\n",
       "      <td>284</td>\n",
       "      <td>NaN</td>\n",
       "    </tr>\n",
       "    <tr>\n",
       "      <th>2</th>\n",
       "      <td>1548769294514884610</td>\n",
       "      <td>{'mentions': [{'start': 3, 'end': 13, 'usernam...</td>\n",
       "      <td>2022-07-17T20:39:09.000Z</td>\n",
       "      <td>{'retweet_count': 3773, 'reply_count': 0, 'lik...</td>\n",
       "      <td>1548769294514884610</td>\n",
       "      <td>en</td>\n",
       "      <td>RT @luckytran: Scientists have been warning us...</td>\n",
       "      <td>Twitter for iPhone</td>\n",
       "      <td>everyone</td>\n",
       "      <td>[{'type': 'retweeted', 'id': '1548380393794969...</td>\n",
       "      <td>50367166</td>\n",
       "      <td>1548380393794969600</td>\n",
       "      <td>3773</td>\n",
       "      <td>NaN</td>\n",
       "    </tr>\n",
       "    <tr>\n",
       "      <th>3</th>\n",
       "      <td>1548769288307326976</td>\n",
       "      <td>{'mentions': [{'start': 3, 'end': 14, 'usernam...</td>\n",
       "      <td>2022-07-17T20:39:07.000Z</td>\n",
       "      <td>{'retweet_count': 15986, 'reply_count': 0, 'li...</td>\n",
       "      <td>1548769288307326976</td>\n",
       "      <td>en</td>\n",
       "      <td>RT @WhipRealer: It’s a farce. Always has been....</td>\n",
       "      <td>Twitter Web App</td>\n",
       "      <td>everyone</td>\n",
       "      <td>[{'type': 'retweeted', 'id': '1548315624098566...</td>\n",
       "      <td>1280228272559861761</td>\n",
       "      <td>1548315624098566144</td>\n",
       "      <td>15986</td>\n",
       "      <td>NaN</td>\n",
       "    </tr>\n",
       "    <tr>\n",
       "      <th>4</th>\n",
       "      <td>1548769284997906432</td>\n",
       "      <td>{'mentions': [{'start': 3, 'end': 17, 'usernam...</td>\n",
       "      <td>2022-07-17T20:39:06.000Z</td>\n",
       "      <td>{'retweet_count': 47, 'reply_count': 0, 'like_...</td>\n",
       "      <td>1548769284997906432</td>\n",
       "      <td>en</td>\n",
       "      <td>RT @Oldglorycries: Climate change is such a th...</td>\n",
       "      <td>Twitter for Android</td>\n",
       "      <td>everyone</td>\n",
       "      <td>[{'type': 'retweeted', 'id': '1548684629087068...</td>\n",
       "      <td>4481909472</td>\n",
       "      <td>1548684629087068161</td>\n",
       "      <td>47</td>\n",
       "      <td>NaN</td>\n",
       "    </tr>\n",
       "    <tr>\n",
       "      <th>...</th>\n",
       "      <td>...</td>\n",
       "      <td>...</td>\n",
       "      <td>...</td>\n",
       "      <td>...</td>\n",
       "      <td>...</td>\n",
       "      <td>...</td>\n",
       "      <td>...</td>\n",
       "      <td>...</td>\n",
       "      <td>...</td>\n",
       "      <td>...</td>\n",
       "      <td>...</td>\n",
       "      <td>...</td>\n",
       "      <td>...</td>\n",
       "      <td>...</td>\n",
       "    </tr>\n",
       "    <tr>\n",
       "      <th>91</th>\n",
       "      <td>1548769103003160576</td>\n",
       "      <td>{'mentions': [{'start': 3, 'end': 12, 'usernam...</td>\n",
       "      <td>2022-07-17T20:38:23.000Z</td>\n",
       "      <td>{'retweet_count': 10, 'reply_count': 0, 'like_...</td>\n",
       "      <td>1548769103003160576</td>\n",
       "      <td>en</td>\n",
       "      <td>RT @tbas7000: @stephenthegrate @ClimateHuman A...</td>\n",
       "      <td>Twitter for iPhone</td>\n",
       "      <td>everyone</td>\n",
       "      <td>[{'type': 'retweeted', 'id': '1548111625437163...</td>\n",
       "      <td>332522556</td>\n",
       "      <td>1548111625437163520</td>\n",
       "      <td>10</td>\n",
       "      <td>NaN</td>\n",
       "    </tr>\n",
       "    <tr>\n",
       "      <th>92</th>\n",
       "      <td>1548769101899829253</td>\n",
       "      <td>{'mentions': [{'start': 3, 'end': 18, 'usernam...</td>\n",
       "      <td>2022-07-17T20:38:23.000Z</td>\n",
       "      <td>{'retweet_count': 105, 'reply_count': 0, 'like...</td>\n",
       "      <td>1548769101899829253</td>\n",
       "      <td>en</td>\n",
       "      <td>RT @nickdixoncomic: ITV presenter just claimed...</td>\n",
       "      <td>Twitter for iPad</td>\n",
       "      <td>everyone</td>\n",
       "      <td>[{'type': 'retweeted', 'id': '1548741899040612...</td>\n",
       "      <td>800108995365081088</td>\n",
       "      <td>1548741899040612353</td>\n",
       "      <td>105</td>\n",
       "      <td>NaN</td>\n",
       "    </tr>\n",
       "    <tr>\n",
       "      <th>93</th>\n",
       "      <td>1548769101224579072</td>\n",
       "      <td>{'mentions': [{'start': 3, 'end': 19, 'usernam...</td>\n",
       "      <td>2022-07-17T20:38:23.000Z</td>\n",
       "      <td>{'retweet_count': 7328, 'reply_count': 0, 'lik...</td>\n",
       "      <td>1548769101224579072</td>\n",
       "      <td>en</td>\n",
       "      <td>RT @TheOtherMandela: Joe Manchin just shut dow...</td>\n",
       "      <td>Twitter for Android</td>\n",
       "      <td>everyone</td>\n",
       "      <td>[{'type': 'retweeted', 'id': '1548079256453885...</td>\n",
       "      <td>756641168188928001</td>\n",
       "      <td>1548079256453885952</td>\n",
       "      <td>7328</td>\n",
       "      <td>NaN</td>\n",
       "    </tr>\n",
       "    <tr>\n",
       "      <th>94</th>\n",
       "      <td>1548769099295387648</td>\n",
       "      <td>{'mentions': [{'start': 3, 'end': 16, 'usernam...</td>\n",
       "      <td>2022-07-17T20:38:22.000Z</td>\n",
       "      <td>{'retweet_count': 11, 'reply_count': 0, 'like_...</td>\n",
       "      <td>1548769099295387648</td>\n",
       "      <td>en</td>\n",
       "      <td>RT @xr_cambridge: Mark told us: “The devastati...</td>\n",
       "      <td>Twitter for iPhone</td>\n",
       "      <td>everyone</td>\n",
       "      <td>[{'type': 'retweeted', 'id': '1548594768116154...</td>\n",
       "      <td>1383901595918757891</td>\n",
       "      <td>1548594768116154369</td>\n",
       "      <td>11</td>\n",
       "      <td>NaN</td>\n",
       "    </tr>\n",
       "    <tr>\n",
       "      <th>95</th>\n",
       "      <td>1548716455188992003</td>\n",
       "      <td>{'mentions': [{'start': 0, 'end': 11, 'usernam...</td>\n",
       "      <td>2022-07-17T20:38:22.000Z</td>\n",
       "      <td>{'retweet_count': 0, 'reply_count': 0, 'like_c...</td>\n",
       "      <td>1548769098921820160</td>\n",
       "      <td>en</td>\n",
       "      <td>@juliaioffe What if @BarackObama felt confiden...</td>\n",
       "      <td>Twitter Web App</td>\n",
       "      <td>everyone</td>\n",
       "      <td>[{'type': 'replied_to', 'id': '154871645518899...</td>\n",
       "      <td>1435121292441800706</td>\n",
       "      <td>1548716455188992003</td>\n",
       "      <td>0</td>\n",
       "      <td>71048726</td>\n",
       "    </tr>\n",
       "  </tbody>\n",
       "</table>\n",
       "<p>96 rows × 14 columns</p>\n",
       "</div>"
      ],
      "text/plain": [
       "        conversation_id                                           entities  \\\n",
       "0   1548769297807429632  {'mentions': [{'start': 3, 'end': 13, 'usernam...   \n",
       "1   1548769295534014466  {'mentions': [{'start': 3, 'end': 16, 'usernam...   \n",
       "2   1548769294514884610  {'mentions': [{'start': 3, 'end': 13, 'usernam...   \n",
       "3   1548769288307326976  {'mentions': [{'start': 3, 'end': 14, 'usernam...   \n",
       "4   1548769284997906432  {'mentions': [{'start': 3, 'end': 17, 'usernam...   \n",
       "..                  ...                                                ...   \n",
       "91  1548769103003160576  {'mentions': [{'start': 3, 'end': 12, 'usernam...   \n",
       "92  1548769101899829253  {'mentions': [{'start': 3, 'end': 18, 'usernam...   \n",
       "93  1548769101224579072  {'mentions': [{'start': 3, 'end': 19, 'usernam...   \n",
       "94  1548769099295387648  {'mentions': [{'start': 3, 'end': 16, 'usernam...   \n",
       "95  1548716455188992003  {'mentions': [{'start': 0, 'end': 11, 'usernam...   \n",
       "\n",
       "                  created_at  \\\n",
       "0   2022-07-17T20:39:09.000Z   \n",
       "1   2022-07-17T20:39:09.000Z   \n",
       "2   2022-07-17T20:39:09.000Z   \n",
       "3   2022-07-17T20:39:07.000Z   \n",
       "4   2022-07-17T20:39:06.000Z   \n",
       "..                       ...   \n",
       "91  2022-07-17T20:38:23.000Z   \n",
       "92  2022-07-17T20:38:23.000Z   \n",
       "93  2022-07-17T20:38:23.000Z   \n",
       "94  2022-07-17T20:38:22.000Z   \n",
       "95  2022-07-17T20:38:22.000Z   \n",
       "\n",
       "                                       public_metrics                   id  \\\n",
       "0   {'retweet_count': 1110, 'reply_count': 0, 'lik...  1548769297807429632   \n",
       "1   {'retweet_count': 284, 'reply_count': 0, 'like...  1548769295534014466   \n",
       "2   {'retweet_count': 3773, 'reply_count': 0, 'lik...  1548769294514884610   \n",
       "3   {'retweet_count': 15986, 'reply_count': 0, 'li...  1548769288307326976   \n",
       "4   {'retweet_count': 47, 'reply_count': 0, 'like_...  1548769284997906432   \n",
       "..                                                ...                  ...   \n",
       "91  {'retweet_count': 10, 'reply_count': 0, 'like_...  1548769103003160576   \n",
       "92  {'retweet_count': 105, 'reply_count': 0, 'like...  1548769101899829253   \n",
       "93  {'retweet_count': 7328, 'reply_count': 0, 'lik...  1548769101224579072   \n",
       "94  {'retweet_count': 11, 'reply_count': 0, 'like_...  1548769099295387648   \n",
       "95  {'retweet_count': 0, 'reply_count': 0, 'like_c...  1548769098921820160   \n",
       "\n",
       "   lang                                               text  \\\n",
       "0    en  RT @parashotz: Every climate change prediction...   \n",
       "1    en  RT @AlisonBoxxer: Antifa #LaurenBoebertIsSoDum...   \n",
       "2    en  RT @luckytran: Scientists have been warning us...   \n",
       "3    en  RT @WhipRealer: It’s a farce. Always has been....   \n",
       "4    en  RT @Oldglorycries: Climate change is such a th...   \n",
       "..  ...                                                ...   \n",
       "91   en  RT @tbas7000: @stephenthegrate @ClimateHuman A...   \n",
       "92   en  RT @nickdixoncomic: ITV presenter just claimed...   \n",
       "93   en  RT @TheOtherMandela: Joe Manchin just shut dow...   \n",
       "94   en  RT @xr_cambridge: Mark told us: “The devastati...   \n",
       "95   en  @juliaioffe What if @BarackObama felt confiden...   \n",
       "\n",
       "                 source reply_settings  \\\n",
       "0    Twitter for iPhone       everyone   \n",
       "1       Twitter Web App       everyone   \n",
       "2    Twitter for iPhone       everyone   \n",
       "3       Twitter Web App       everyone   \n",
       "4   Twitter for Android       everyone   \n",
       "..                  ...            ...   \n",
       "91   Twitter for iPhone       everyone   \n",
       "92     Twitter for iPad       everyone   \n",
       "93  Twitter for Android       everyone   \n",
       "94   Twitter for iPhone       everyone   \n",
       "95      Twitter Web App       everyone   \n",
       "\n",
       "                                    referenced_tweets              user_id  \\\n",
       "0   [{'type': 'retweeted', 'id': '1548662364794388...  1351610562938073092   \n",
       "1   [{'type': 'retweeted', 'id': '1548714522143326...  1000152196061782016   \n",
       "2   [{'type': 'retweeted', 'id': '1548380393794969...             50367166   \n",
       "3   [{'type': 'retweeted', 'id': '1548315624098566...  1280228272559861761   \n",
       "4   [{'type': 'retweeted', 'id': '1548684629087068...           4481909472   \n",
       "..                                                ...                  ...   \n",
       "91  [{'type': 'retweeted', 'id': '1548111625437163...            332522556   \n",
       "92  [{'type': 'retweeted', 'id': '1548741899040612...   800108995365081088   \n",
       "93  [{'type': 'retweeted', 'id': '1548079256453885...   756641168188928001   \n",
       "94  [{'type': 'retweeted', 'id': '1548594768116154...  1383901595918757891   \n",
       "95  [{'type': 'replied_to', 'id': '154871645518899...  1435121292441800706   \n",
       "\n",
       "   referenced_tweets_ids  retweet_count in_reply_to_user_id  \n",
       "0    1548662364794388481           1110                 NaN  \n",
       "1    1548714522143326216            284                 NaN  \n",
       "2    1548380393794969600           3773                 NaN  \n",
       "3    1548315624098566144          15986                 NaN  \n",
       "4    1548684629087068161             47                 NaN  \n",
       "..                   ...            ...                 ...  \n",
       "91   1548111625437163520             10                 NaN  \n",
       "92   1548741899040612353            105                 NaN  \n",
       "93   1548079256453885952           7328                 NaN  \n",
       "94   1548594768116154369             11                 NaN  \n",
       "95   1548716455188992003              0            71048726  \n",
       "\n",
       "[96 rows x 14 columns]"
      ]
     },
     "execution_count": 23,
     "metadata": {},
     "output_type": "execute_result"
    }
   ],
   "source": [
    "climate_feed_df"
   ]
  },
  {
   "cell_type": "markdown",
   "metadata": {},
   "source": [
    "# Q3(1 points) List datatype using climate_feed_df. Describe which attributes doesn't have correct data types. What should be correct datatype?"
   ]
  },
  {
   "cell_type": "code",
   "execution_count": 25,
   "metadata": {},
   "outputs": [
    {
     "data": {
      "text/plain": [
       "conversation_id          object\n",
       "entities                 object\n",
       "created_at               object\n",
       "public_metrics           object\n",
       "id                       object\n",
       "lang                     object\n",
       "text                     object\n",
       "source                   object\n",
       "reply_settings           object\n",
       "referenced_tweets        object\n",
       "user_id                  object\n",
       "referenced_tweets_ids    object\n",
       "retweet_count             int64\n",
       "in_reply_to_user_id      object\n",
       "dtype: object"
      ]
     },
     "execution_count": 25,
     "metadata": {},
     "output_type": "execute_result"
    }
   ],
   "source": [
    "climate_feed_df.dtypes"
   ]
  },
  {
   "cell_type": "markdown",
   "metadata": {},
   "source": [
    "# Write columns with wrong datatype and mention correct data type too.\n",
    "\n",
    "conversation_id should be an int64\n",
    "id should be an int64\n",
    "text should be a string\n",
    "user_id should be int64\n",
    "referenced_tweets_ids should be int64"
   ]
  },
  {
   "cell_type": "markdown",
   "metadata": {},
   "source": [
    "# Q4 (1.5 point) Complete following tweet_user_generator. Generator should yield only *user* value from a tweet\n",
    "\n",
    "- As per the twitter API the user information is in the 'users' object within the 'includes' object of the response."
   ]
  },
  {
   "cell_type": "code",
   "execution_count": 39,
   "metadata": {},
   "outputs": [],
   "source": [
    "def tweet_user_generator(tweet_user_list):\n",
    "    for user in tweet_user_list:\n",
    "        try:\n",
    "            yield user\n",
    "        except KeyError:\n",
    "            continue"
   ]
  },
  {
   "cell_type": "code",
   "execution_count": 40,
   "metadata": {},
   "outputs": [],
   "source": [
    "user_df = pd.DataFrame(tweet_user_generator(climate_tweets))"
   ]
  },
  {
   "cell_type": "code",
   "execution_count": 41,
   "metadata": {},
   "outputs": [
    {
     "data": {
      "text/html": [
       "<div>\n",
       "<style scoped>\n",
       "    .dataframe tbody tr th:only-of-type {\n",
       "        vertical-align: middle;\n",
       "    }\n",
       "\n",
       "    .dataframe tbody tr th {\n",
       "        vertical-align: top;\n",
       "    }\n",
       "\n",
       "    .dataframe thead th {\n",
       "        text-align: right;\n",
       "    }\n",
       "</style>\n",
       "<table border=\"1\" class=\"dataframe\">\n",
       "  <thead>\n",
       "    <tr style=\"text-align: right;\">\n",
       "      <th></th>\n",
       "      <th>0</th>\n",
       "    </tr>\n",
       "  </thead>\n",
       "  <tbody>\n",
       "    <tr>\n",
       "      <th>0</th>\n",
       "      <td>data</td>\n",
       "    </tr>\n",
       "    <tr>\n",
       "      <th>1</th>\n",
       "      <td>includes</td>\n",
       "    </tr>\n",
       "    <tr>\n",
       "      <th>2</th>\n",
       "      <td>meta</td>\n",
       "    </tr>\n",
       "  </tbody>\n",
       "</table>\n",
       "</div>"
      ],
      "text/plain": [
       "          0\n",
       "0      data\n",
       "1  includes\n",
       "2      meta"
      ]
     },
     "execution_count": 41,
     "metadata": {},
     "output_type": "execute_result"
    }
   ],
   "source": [
    "user_df"
   ]
  },
  {
   "cell_type": "markdown",
   "metadata": {},
   "source": [
    "# Q5(1 point) List datatypes of columns using user_df. Describe which attributes doesn't have correct data types. What should be correct datatype for each case?"
   ]
  },
  {
   "cell_type": "code",
   "execution_count": 42,
   "metadata": {},
   "outputs": [
    {
     "data": {
      "text/plain": [
       "0    object\n",
       "dtype: object"
      ]
     },
     "execution_count": 42,
     "metadata": {},
     "output_type": "execute_result"
    }
   ],
   "source": [
    "user_df.dtypes\n"
   ]
  },
  {
   "cell_type": "markdown",
   "metadata": {},
   "source": [
    "# write columns with wrong datatype and mention correct data type too.\n",
    "\n",
    "0 should be string"
   ]
  },
  {
   "cell_type": "markdown",
   "metadata": {},
   "source": [
    "# Q6 (1 point) Complete following retweeted_status_generator. Generator should yield dictionary of retweeted_status value from each tweet. If a tweet doesn't have this key return empty dictionary.\n",
    "\n",
    "- As per the twitter API the user information is in the 'users' object within the 'includes' object of the response."
   ]
  },
  {
   "cell_type": "code",
   "execution_count": 43,
   "metadata": {},
   "outputs": [],
   "source": [
    "retweeted_status_df = climate_feed_df[['id', 'retweet_count']]"
   ]
  },
  {
   "cell_type": "code",
   "execution_count": 44,
   "metadata": {},
   "outputs": [
    {
     "data": {
      "text/html": [
       "<div>\n",
       "<style scoped>\n",
       "    .dataframe tbody tr th:only-of-type {\n",
       "        vertical-align: middle;\n",
       "    }\n",
       "\n",
       "    .dataframe tbody tr th {\n",
       "        vertical-align: top;\n",
       "    }\n",
       "\n",
       "    .dataframe thead th {\n",
       "        text-align: right;\n",
       "    }\n",
       "</style>\n",
       "<table border=\"1\" class=\"dataframe\">\n",
       "  <thead>\n",
       "    <tr style=\"text-align: right;\">\n",
       "      <th></th>\n",
       "      <th>id</th>\n",
       "      <th>retweet_count</th>\n",
       "    </tr>\n",
       "  </thead>\n",
       "  <tbody>\n",
       "    <tr>\n",
       "      <th>0</th>\n",
       "      <td>1548769297807429632</td>\n",
       "      <td>1110</td>\n",
       "    </tr>\n",
       "    <tr>\n",
       "      <th>1</th>\n",
       "      <td>1548769295534014466</td>\n",
       "      <td>284</td>\n",
       "    </tr>\n",
       "    <tr>\n",
       "      <th>2</th>\n",
       "      <td>1548769294514884610</td>\n",
       "      <td>3773</td>\n",
       "    </tr>\n",
       "    <tr>\n",
       "      <th>3</th>\n",
       "      <td>1548769288307326976</td>\n",
       "      <td>15986</td>\n",
       "    </tr>\n",
       "    <tr>\n",
       "      <th>4</th>\n",
       "      <td>1548769284997906432</td>\n",
       "      <td>47</td>\n",
       "    </tr>\n",
       "  </tbody>\n",
       "</table>\n",
       "</div>"
      ],
      "text/plain": [
       "                    id  retweet_count\n",
       "0  1548769297807429632           1110\n",
       "1  1548769295534014466            284\n",
       "2  1548769294514884610           3773\n",
       "3  1548769288307326976          15986\n",
       "4  1548769284997906432             47"
      ]
     },
     "execution_count": 44,
     "metadata": {},
     "output_type": "execute_result"
    }
   ],
   "source": [
    "retweeted_status_df.head()"
   ]
  },
  {
   "cell_type": "markdown",
   "metadata": {},
   "source": [
    "# Q7 (1 point) Write code to find number of rows in retweeted_status_df that were not retweeted. print number of such rows."
   ]
  },
  {
   "cell_type": "code",
   "execution_count": 47,
   "metadata": {},
   "outputs": [
    {
     "name": "stdout",
     "output_type": "stream",
     "text": [
      "11\n"
     ]
    }
   ],
   "source": [
    "print(sum(retweeted_status_df['retweet_count'] == 0))"
   ]
  }
 ],
 "metadata": {
  "kernelspec": {
   "display_name": "Python 3 (ipykernel)",
   "language": "python",
   "name": "python3"
  },
  "language_info": {
   "codemirror_mode": {
    "name": "ipython",
    "version": 3
   },
   "file_extension": ".py",
   "mimetype": "text/x-python",
   "name": "python",
   "nbconvert_exporter": "python",
   "pygments_lexer": "ipython3",
   "version": "3.8.10"
  },
  "toc": {
   "base_numbering": 1,
   "nav_menu": {},
   "number_sections": false,
   "sideBar": true,
   "skip_h1_title": false,
   "title_cell": "Table of Contents",
   "title_sidebar": "Contents",
   "toc_cell": false,
   "toc_position": {},
   "toc_section_display": true,
   "toc_window_display": false
  },
  "varInspector": {
   "cols": {
    "lenName": 16,
    "lenType": 16,
    "lenVar": 40
   },
   "kernels_config": {
    "python": {
     "delete_cmd_postfix": "",
     "delete_cmd_prefix": "del ",
     "library": "var_list.py",
     "varRefreshCmd": "print(var_dic_list())"
    },
    "r": {
     "delete_cmd_postfix": ") ",
     "delete_cmd_prefix": "rm(",
     "library": "var_list.r",
     "varRefreshCmd": "cat(var_dic_list()) "
    }
   },
   "types_to_exclude": [
    "module",
    "function",
    "builtin_function_or_method",
    "instance",
    "_Feature"
   ],
   "window_display": false
  }
 },
 "nbformat": 4,
 "nbformat_minor": 2
}
